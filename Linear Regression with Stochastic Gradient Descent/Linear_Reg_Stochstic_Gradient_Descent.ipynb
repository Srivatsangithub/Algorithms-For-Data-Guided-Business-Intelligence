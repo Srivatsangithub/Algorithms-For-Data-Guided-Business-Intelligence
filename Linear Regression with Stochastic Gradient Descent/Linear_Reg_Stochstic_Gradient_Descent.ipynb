{
  "nbformat": 4,
  "nbformat_minor": 0,
  "metadata": {
    "colab": {
      "name": "Assignment 11: Stochstic Gradient Descent.ipynb",
      "provenance": [],
      "collapsed_sections": []
    },
    "kernelspec": {
      "name": "python3",
      "display_name": "Python 3"
    },
    "language_info": {
      "name": "python"
    }
  },
  "cells": [
    {
      "cell_type": "code",
      "execution_count": 15,
      "metadata": {
        "id": "0Xn-pa_-wfHX"
      },
      "outputs": [],
      "source": [
        "import warnings\n",
        "warnings.filterwarnings(\"ignore\")\n",
        "from sklearn.datasets import load_boston\n",
        "from sklearn import preprocessing\n",
        "import pandas as pd\n",
        "import numpy as np\n",
        "import matplotlib.pyplot as plt\n",
        "import unittest\n",
        "from sklearn.metrics import mean_squared_error\n",
        "from numpy import random\n",
        "from sklearn.model_selection import train_test_split"
      ]
    },
    {
      "cell_type": "code",
      "source": [
        "boston_data = pd.DataFrame(load_boston().data, columns=load_boston().feature_names)"
      ],
      "metadata": {
        "id": "9TurcykfxNfs"
      },
      "execution_count": 2,
      "outputs": []
    },
    {
      "cell_type": "code",
      "source": [
        "boston_data.head(5)"
      ],
      "metadata": {
        "colab": {
          "base_uri": "https://localhost:8080/",
          "height": 206
        },
        "id": "TZ_cUM3cxaiG",
        "outputId": "c1e3150f-3ebd-471f-f3db-7a4e3b46baa8"
      },
      "execution_count": 3,
      "outputs": [
        {
          "output_type": "execute_result",
          "data": {
            "text/plain": [
              "      CRIM    ZN  INDUS  CHAS    NOX     RM   AGE     DIS  RAD    TAX  \\\n",
              "0  0.00632  18.0   2.31   0.0  0.538  6.575  65.2  4.0900  1.0  296.0   \n",
              "1  0.02731   0.0   7.07   0.0  0.469  6.421  78.9  4.9671  2.0  242.0   \n",
              "2  0.02729   0.0   7.07   0.0  0.469  7.185  61.1  4.9671  2.0  242.0   \n",
              "3  0.03237   0.0   2.18   0.0  0.458  6.998  45.8  6.0622  3.0  222.0   \n",
              "4  0.06905   0.0   2.18   0.0  0.458  7.147  54.2  6.0622  3.0  222.0   \n",
              "\n",
              "   PTRATIO       B  LSTAT  \n",
              "0     15.3  396.90   4.98  \n",
              "1     17.8  396.90   9.14  \n",
              "2     17.8  392.83   4.03  \n",
              "3     18.7  394.63   2.94  \n",
              "4     18.7  396.90   5.33  "
            ],
            "text/html": [
              "\n",
              "  <div id=\"df-5c681890-c27f-4a6e-ba95-96ed8012bb1e\">\n",
              "    <div class=\"colab-df-container\">\n",
              "      <div>\n",
              "<style scoped>\n",
              "    .dataframe tbody tr th:only-of-type {\n",
              "        vertical-align: middle;\n",
              "    }\n",
              "\n",
              "    .dataframe tbody tr th {\n",
              "        vertical-align: top;\n",
              "    }\n",
              "\n",
              "    .dataframe thead th {\n",
              "        text-align: right;\n",
              "    }\n",
              "</style>\n",
              "<table border=\"1\" class=\"dataframe\">\n",
              "  <thead>\n",
              "    <tr style=\"text-align: right;\">\n",
              "      <th></th>\n",
              "      <th>CRIM</th>\n",
              "      <th>ZN</th>\n",
              "      <th>INDUS</th>\n",
              "      <th>CHAS</th>\n",
              "      <th>NOX</th>\n",
              "      <th>RM</th>\n",
              "      <th>AGE</th>\n",
              "      <th>DIS</th>\n",
              "      <th>RAD</th>\n",
              "      <th>TAX</th>\n",
              "      <th>PTRATIO</th>\n",
              "      <th>B</th>\n",
              "      <th>LSTAT</th>\n",
              "    </tr>\n",
              "  </thead>\n",
              "  <tbody>\n",
              "    <tr>\n",
              "      <th>0</th>\n",
              "      <td>0.00632</td>\n",
              "      <td>18.0</td>\n",
              "      <td>2.31</td>\n",
              "      <td>0.0</td>\n",
              "      <td>0.538</td>\n",
              "      <td>6.575</td>\n",
              "      <td>65.2</td>\n",
              "      <td>4.0900</td>\n",
              "      <td>1.0</td>\n",
              "      <td>296.0</td>\n",
              "      <td>15.3</td>\n",
              "      <td>396.90</td>\n",
              "      <td>4.98</td>\n",
              "    </tr>\n",
              "    <tr>\n",
              "      <th>1</th>\n",
              "      <td>0.02731</td>\n",
              "      <td>0.0</td>\n",
              "      <td>7.07</td>\n",
              "      <td>0.0</td>\n",
              "      <td>0.469</td>\n",
              "      <td>6.421</td>\n",
              "      <td>78.9</td>\n",
              "      <td>4.9671</td>\n",
              "      <td>2.0</td>\n",
              "      <td>242.0</td>\n",
              "      <td>17.8</td>\n",
              "      <td>396.90</td>\n",
              "      <td>9.14</td>\n",
              "    </tr>\n",
              "    <tr>\n",
              "      <th>2</th>\n",
              "      <td>0.02729</td>\n",
              "      <td>0.0</td>\n",
              "      <td>7.07</td>\n",
              "      <td>0.0</td>\n",
              "      <td>0.469</td>\n",
              "      <td>7.185</td>\n",
              "      <td>61.1</td>\n",
              "      <td>4.9671</td>\n",
              "      <td>2.0</td>\n",
              "      <td>242.0</td>\n",
              "      <td>17.8</td>\n",
              "      <td>392.83</td>\n",
              "      <td>4.03</td>\n",
              "    </tr>\n",
              "    <tr>\n",
              "      <th>3</th>\n",
              "      <td>0.03237</td>\n",
              "      <td>0.0</td>\n",
              "      <td>2.18</td>\n",
              "      <td>0.0</td>\n",
              "      <td>0.458</td>\n",
              "      <td>6.998</td>\n",
              "      <td>45.8</td>\n",
              "      <td>6.0622</td>\n",
              "      <td>3.0</td>\n",
              "      <td>222.0</td>\n",
              "      <td>18.7</td>\n",
              "      <td>394.63</td>\n",
              "      <td>2.94</td>\n",
              "    </tr>\n",
              "    <tr>\n",
              "      <th>4</th>\n",
              "      <td>0.06905</td>\n",
              "      <td>0.0</td>\n",
              "      <td>2.18</td>\n",
              "      <td>0.0</td>\n",
              "      <td>0.458</td>\n",
              "      <td>7.147</td>\n",
              "      <td>54.2</td>\n",
              "      <td>6.0622</td>\n",
              "      <td>3.0</td>\n",
              "      <td>222.0</td>\n",
              "      <td>18.7</td>\n",
              "      <td>396.90</td>\n",
              "      <td>5.33</td>\n",
              "    </tr>\n",
              "  </tbody>\n",
              "</table>\n",
              "</div>\n",
              "      <button class=\"colab-df-convert\" onclick=\"convertToInteractive('df-5c681890-c27f-4a6e-ba95-96ed8012bb1e')\"\n",
              "              title=\"Convert this dataframe to an interactive table.\"\n",
              "              style=\"display:none;\">\n",
              "        \n",
              "  <svg xmlns=\"http://www.w3.org/2000/svg\" height=\"24px\"viewBox=\"0 0 24 24\"\n",
              "       width=\"24px\">\n",
              "    <path d=\"M0 0h24v24H0V0z\" fill=\"none\"/>\n",
              "    <path d=\"M18.56 5.44l.94 2.06.94-2.06 2.06-.94-2.06-.94-.94-2.06-.94 2.06-2.06.94zm-11 1L8.5 8.5l.94-2.06 2.06-.94-2.06-.94L8.5 2.5l-.94 2.06-2.06.94zm10 10l.94 2.06.94-2.06 2.06-.94-2.06-.94-.94-2.06-.94 2.06-2.06.94z\"/><path d=\"M17.41 7.96l-1.37-1.37c-.4-.4-.92-.59-1.43-.59-.52 0-1.04.2-1.43.59L10.3 9.45l-7.72 7.72c-.78.78-.78 2.05 0 2.83L4 21.41c.39.39.9.59 1.41.59.51 0 1.02-.2 1.41-.59l7.78-7.78 2.81-2.81c.8-.78.8-2.07 0-2.86zM5.41 20L4 18.59l7.72-7.72 1.47 1.35L5.41 20z\"/>\n",
              "  </svg>\n",
              "      </button>\n",
              "      \n",
              "  <style>\n",
              "    .colab-df-container {\n",
              "      display:flex;\n",
              "      flex-wrap:wrap;\n",
              "      gap: 12px;\n",
              "    }\n",
              "\n",
              "    .colab-df-convert {\n",
              "      background-color: #E8F0FE;\n",
              "      border: none;\n",
              "      border-radius: 50%;\n",
              "      cursor: pointer;\n",
              "      display: none;\n",
              "      fill: #1967D2;\n",
              "      height: 32px;\n",
              "      padding: 0 0 0 0;\n",
              "      width: 32px;\n",
              "    }\n",
              "\n",
              "    .colab-df-convert:hover {\n",
              "      background-color: #E2EBFA;\n",
              "      box-shadow: 0px 1px 2px rgba(60, 64, 67, 0.3), 0px 1px 3px 1px rgba(60, 64, 67, 0.15);\n",
              "      fill: #174EA6;\n",
              "    }\n",
              "\n",
              "    [theme=dark] .colab-df-convert {\n",
              "      background-color: #3B4455;\n",
              "      fill: #D2E3FC;\n",
              "    }\n",
              "\n",
              "    [theme=dark] .colab-df-convert:hover {\n",
              "      background-color: #434B5C;\n",
              "      box-shadow: 0px 1px 3px 1px rgba(0, 0, 0, 0.15);\n",
              "      filter: drop-shadow(0px 1px 2px rgba(0, 0, 0, 0.3));\n",
              "      fill: #FFFFFF;\n",
              "    }\n",
              "  </style>\n",
              "\n",
              "      <script>\n",
              "        const buttonEl =\n",
              "          document.querySelector('#df-5c681890-c27f-4a6e-ba95-96ed8012bb1e button.colab-df-convert');\n",
              "        buttonEl.style.display =\n",
              "          google.colab.kernel.accessAllowed ? 'block' : 'none';\n",
              "\n",
              "        async function convertToInteractive(key) {\n",
              "          const element = document.querySelector('#df-5c681890-c27f-4a6e-ba95-96ed8012bb1e');\n",
              "          const dataTable =\n",
              "            await google.colab.kernel.invokeFunction('convertToInteractive',\n",
              "                                                     [key], {});\n",
              "          if (!dataTable) return;\n",
              "\n",
              "          const docLinkHtml = 'Like what you see? Visit the ' +\n",
              "            '<a target=\"_blank\" href=https://colab.research.google.com/notebooks/data_table.ipynb>data table notebook</a>'\n",
              "            + ' to learn more about interactive tables.';\n",
              "          element.innerHTML = '';\n",
              "          dataTable['output_type'] = 'display_data';\n",
              "          await google.colab.output.renderOutput(dataTable, element);\n",
              "          const docLink = document.createElement('div');\n",
              "          docLink.innerHTML = docLinkHtml;\n",
              "          element.appendChild(docLink);\n",
              "        }\n",
              "      </script>\n",
              "    </div>\n",
              "  </div>\n",
              "  "
            ]
          },
          "metadata": {},
          "execution_count": 3
        }
      ]
    },
    {
      "cell_type": "code",
      "source": [
        "Y=load_boston().target\n",
        "X=load_boston().data"
      ],
      "metadata": {
        "id": "egaPIlglxSO8"
      },
      "execution_count": 4,
      "outputs": []
    },
    {
      "cell_type": "code",
      "source": [
        "x_train,x_test,y_train,y_test=train_test_split(X,Y,test_size=0.3)"
      ],
      "metadata": {
        "id": "jHlbVacLxSVF"
      },
      "execution_count": 5,
      "outputs": []
    },
    {
      "cell_type": "code",
      "source": [
        "# Structure of entire data\n",
        "print(\"X Shape: \",X.shape)\n",
        "print(\"Y Shape: \",Y.shape)\n",
        "# Structure of just the training data\n",
        "print(\"X_Train Shape: \",x_train.shape)\n",
        "print(\"X_Test Shape: \",x_test.shape)\n",
        "# Structure of test data\n",
        "print(\"Y_Train Shape: \",y_train.shape)\n",
        "print(\"Y_Test Shape: \",y_test.shape)"
      ],
      "metadata": {
        "colab": {
          "base_uri": "https://localhost:8080/"
        },
        "id": "CV-LQKVixSbi",
        "outputId": "11e5b6be-aaef-45b5-e9e1-40be728eae08"
      },
      "execution_count": 6,
      "outputs": [
        {
          "output_type": "stream",
          "name": "stdout",
          "text": [
            "X Shape:  (506, 13)\n",
            "Y Shape:  (506,)\n",
            "X_Train Shape:  (354, 13)\n",
            "X_Test Shape:  (152, 13)\n",
            "Y_Train Shape:  (354,)\n",
            "Y_Test Shape:  (152,)\n"
          ]
        }
      ]
    },
    {
      "cell_type": "code",
      "source": [
        "# Data normalization\n",
        "scaler = preprocessing.StandardScaler().fit(x_train)\n",
        "x_train = scaler.transform(x_train)\n",
        "x_test = scaler.transform(x_test)"
      ],
      "metadata": {
        "id": "NefTrQeWxlzE"
      },
      "execution_count": 7,
      "outputs": []
    },
    {
      "cell_type": "code",
      "source": [
        "## Adding the PRIZE Column in the data\n",
        "train_data = pd.DataFrame(x_train)\n",
        "train_data['price'] = y_train\n",
        "train_data.head(3)"
      ],
      "metadata": {
        "colab": {
          "base_uri": "https://localhost:8080/",
          "height": 143
        },
        "id": "jQazywNtyGli",
        "outputId": "e6ef7f86-47cd-43d2-9a6e-cc0066804125"
      },
      "execution_count": 8,
      "outputs": [
        {
          "output_type": "execute_result",
          "data": {
            "text/plain": [
              "          0         1         2         3         4         5         6  \\\n",
              "0 -0.405893  0.544846 -0.794185 -0.293069 -1.073570  0.337046 -1.956643   \n",
              "1 -0.388707 -0.460905 -0.100421 -0.293069 -0.583213 -1.214889 -2.069526   \n",
              "2 -0.351631  0.453415 -1.071398 -0.293069  0.752588  3.537640  0.650254   \n",
              "\n",
              "          7         8         9        10        11        12  price  \n",
              "0  1.744671 -0.302917 -0.471373  0.300539  0.434782 -0.960716   24.4  \n",
              "1 -0.088335 -0.646245 -0.783691  0.067226 -0.084526  2.297675   23.7  \n",
              "2 -0.948009 -0.531803 -0.860298 -2.545881  0.362616 -1.068181   50.0  "
            ],
            "text/html": [
              "\n",
              "  <div id=\"df-971b05e9-9f50-43ed-b25d-efa96cfdc26e\">\n",
              "    <div class=\"colab-df-container\">\n",
              "      <div>\n",
              "<style scoped>\n",
              "    .dataframe tbody tr th:only-of-type {\n",
              "        vertical-align: middle;\n",
              "    }\n",
              "\n",
              "    .dataframe tbody tr th {\n",
              "        vertical-align: top;\n",
              "    }\n",
              "\n",
              "    .dataframe thead th {\n",
              "        text-align: right;\n",
              "    }\n",
              "</style>\n",
              "<table border=\"1\" class=\"dataframe\">\n",
              "  <thead>\n",
              "    <tr style=\"text-align: right;\">\n",
              "      <th></th>\n",
              "      <th>0</th>\n",
              "      <th>1</th>\n",
              "      <th>2</th>\n",
              "      <th>3</th>\n",
              "      <th>4</th>\n",
              "      <th>5</th>\n",
              "      <th>6</th>\n",
              "      <th>7</th>\n",
              "      <th>8</th>\n",
              "      <th>9</th>\n",
              "      <th>10</th>\n",
              "      <th>11</th>\n",
              "      <th>12</th>\n",
              "      <th>price</th>\n",
              "    </tr>\n",
              "  </thead>\n",
              "  <tbody>\n",
              "    <tr>\n",
              "      <th>0</th>\n",
              "      <td>-0.405893</td>\n",
              "      <td>0.544846</td>\n",
              "      <td>-0.794185</td>\n",
              "      <td>-0.293069</td>\n",
              "      <td>-1.073570</td>\n",
              "      <td>0.337046</td>\n",
              "      <td>-1.956643</td>\n",
              "      <td>1.744671</td>\n",
              "      <td>-0.302917</td>\n",
              "      <td>-0.471373</td>\n",
              "      <td>0.300539</td>\n",
              "      <td>0.434782</td>\n",
              "      <td>-0.960716</td>\n",
              "      <td>24.4</td>\n",
              "    </tr>\n",
              "    <tr>\n",
              "      <th>1</th>\n",
              "      <td>-0.388707</td>\n",
              "      <td>-0.460905</td>\n",
              "      <td>-0.100421</td>\n",
              "      <td>-0.293069</td>\n",
              "      <td>-0.583213</td>\n",
              "      <td>-1.214889</td>\n",
              "      <td>-2.069526</td>\n",
              "      <td>-0.088335</td>\n",
              "      <td>-0.646245</td>\n",
              "      <td>-0.783691</td>\n",
              "      <td>0.067226</td>\n",
              "      <td>-0.084526</td>\n",
              "      <td>2.297675</td>\n",
              "      <td>23.7</td>\n",
              "    </tr>\n",
              "    <tr>\n",
              "      <th>2</th>\n",
              "      <td>-0.351631</td>\n",
              "      <td>0.453415</td>\n",
              "      <td>-1.071398</td>\n",
              "      <td>-0.293069</td>\n",
              "      <td>0.752588</td>\n",
              "      <td>3.537640</td>\n",
              "      <td>0.650254</td>\n",
              "      <td>-0.948009</td>\n",
              "      <td>-0.531803</td>\n",
              "      <td>-0.860298</td>\n",
              "      <td>-2.545881</td>\n",
              "      <td>0.362616</td>\n",
              "      <td>-1.068181</td>\n",
              "      <td>50.0</td>\n",
              "    </tr>\n",
              "  </tbody>\n",
              "</table>\n",
              "</div>\n",
              "      <button class=\"colab-df-convert\" onclick=\"convertToInteractive('df-971b05e9-9f50-43ed-b25d-efa96cfdc26e')\"\n",
              "              title=\"Convert this dataframe to an interactive table.\"\n",
              "              style=\"display:none;\">\n",
              "        \n",
              "  <svg xmlns=\"http://www.w3.org/2000/svg\" height=\"24px\"viewBox=\"0 0 24 24\"\n",
              "       width=\"24px\">\n",
              "    <path d=\"M0 0h24v24H0V0z\" fill=\"none\"/>\n",
              "    <path d=\"M18.56 5.44l.94 2.06.94-2.06 2.06-.94-2.06-.94-.94-2.06-.94 2.06-2.06.94zm-11 1L8.5 8.5l.94-2.06 2.06-.94-2.06-.94L8.5 2.5l-.94 2.06-2.06.94zm10 10l.94 2.06.94-2.06 2.06-.94-2.06-.94-.94-2.06-.94 2.06-2.06.94z\"/><path d=\"M17.41 7.96l-1.37-1.37c-.4-.4-.92-.59-1.43-.59-.52 0-1.04.2-1.43.59L10.3 9.45l-7.72 7.72c-.78.78-.78 2.05 0 2.83L4 21.41c.39.39.9.59 1.41.59.51 0 1.02-.2 1.41-.59l7.78-7.78 2.81-2.81c.8-.78.8-2.07 0-2.86zM5.41 20L4 18.59l7.72-7.72 1.47 1.35L5.41 20z\"/>\n",
              "  </svg>\n",
              "      </button>\n",
              "      \n",
              "  <style>\n",
              "    .colab-df-container {\n",
              "      display:flex;\n",
              "      flex-wrap:wrap;\n",
              "      gap: 12px;\n",
              "    }\n",
              "\n",
              "    .colab-df-convert {\n",
              "      background-color: #E8F0FE;\n",
              "      border: none;\n",
              "      border-radius: 50%;\n",
              "      cursor: pointer;\n",
              "      display: none;\n",
              "      fill: #1967D2;\n",
              "      height: 32px;\n",
              "      padding: 0 0 0 0;\n",
              "      width: 32px;\n",
              "    }\n",
              "\n",
              "    .colab-df-convert:hover {\n",
              "      background-color: #E2EBFA;\n",
              "      box-shadow: 0px 1px 2px rgba(60, 64, 67, 0.3), 0px 1px 3px 1px rgba(60, 64, 67, 0.15);\n",
              "      fill: #174EA6;\n",
              "    }\n",
              "\n",
              "    [theme=dark] .colab-df-convert {\n",
              "      background-color: #3B4455;\n",
              "      fill: #D2E3FC;\n",
              "    }\n",
              "\n",
              "    [theme=dark] .colab-df-convert:hover {\n",
              "      background-color: #434B5C;\n",
              "      box-shadow: 0px 1px 3px 1px rgba(0, 0, 0, 0.15);\n",
              "      filter: drop-shadow(0px 1px 2px rgba(0, 0, 0, 0.3));\n",
              "      fill: #FFFFFF;\n",
              "    }\n",
              "  </style>\n",
              "\n",
              "      <script>\n",
              "        const buttonEl =\n",
              "          document.querySelector('#df-971b05e9-9f50-43ed-b25d-efa96cfdc26e button.colab-df-convert');\n",
              "        buttonEl.style.display =\n",
              "          google.colab.kernel.accessAllowed ? 'block' : 'none';\n",
              "\n",
              "        async function convertToInteractive(key) {\n",
              "          const element = document.querySelector('#df-971b05e9-9f50-43ed-b25d-efa96cfdc26e');\n",
              "          const dataTable =\n",
              "            await google.colab.kernel.invokeFunction('convertToInteractive',\n",
              "                                                     [key], {});\n",
              "          if (!dataTable) return;\n",
              "\n",
              "          const docLinkHtml = 'Like what you see? Visit the ' +\n",
              "            '<a target=\"_blank\" href=https://colab.research.google.com/notebooks/data_table.ipynb>data table notebook</a>'\n",
              "            + ' to learn more about interactive tables.';\n",
              "          element.innerHTML = '';\n",
              "          dataTable['output_type'] = 'display_data';\n",
              "          await google.colab.output.renderOutput(dataTable, element);\n",
              "          const docLink = document.createElement('div');\n",
              "          docLink.innerHTML = docLinkHtml;\n",
              "          element.appendChild(docLink);\n",
              "        }\n",
              "      </script>\n",
              "    </div>\n",
              "  </div>\n",
              "  "
            ]
          },
          "metadata": {},
          "execution_count": 8
        }
      ]
    },
    {
      "cell_type": "code",
      "source": [
        "# Getting the np array needed for stochastic gradient descent while performing linear regression\n",
        "x_test=np.array(x_test)\n",
        "y_test=np.array(y_test)"
      ],
      "metadata": {
        "id": "KUli3QaNyQNz"
      },
      "execution_count": 9,
      "outputs": []
    },
    {
      "cell_type": "code",
      "source": [
        "# Writing the custom Stochastic Gradient Descient Function here\n",
        "\n",
        "def stochasticGradientFunc(train_data, learning_rate, epochs, batch_size, lambda_value):\n",
        "\n",
        "  # Setting initial w and b coefficients as we know that the linear regression formula to be y = mx + c or y = wx + b\n",
        "  b = 0\n",
        "  # Setting initial w coeffcient as per the train_data: setting it to 13 zeros as y column called pPrice' was also added to train_data which must not be part of this updation\n",
        "  w = np.zeros((1, 13))\n",
        "\n",
        "  # We create batches of our entire data and for each batch of data we compute the gradients and this is done for all the batches for all epochs. \n",
        "  # Note: More number of epochs will produce better gradient descent results. Trial and error with different number of epochs\n",
        "  current_epoch = 1\n",
        "  while(current_epoch < epochs):\n",
        "\n",
        "    # Initial Gradients for every epoch\n",
        "    b_gradient=0\n",
        "    w_gradient = np.zeros((1, 13))\n",
        "        \n",
        "    # Getting the batches of data from train_data\n",
        "    batch_train_data = train_data.sample(batch_size)\n",
        "\n",
        "    # Creating the train and actual data from this batch\n",
        "    x = np.array(batch_train_data.drop('price', axis=1))\n",
        "    y = np.array(batch_train_data['price'])\n",
        "\n",
        "    for i in range(0, batch_size):\n",
        "      pred = np.dot(w, x[i]) + b\n",
        "      w_gradient += (-2) * x[i] * (y[i] - (pred))\n",
        "      b_gradient += (-2) * (y[i] - (pred))\n",
        "\n",
        "    # Updation of the coefficients using the gradients and Ridge regularization/ L2 Regularization to prevent overfitting\n",
        "    w_gradient = w_gradient/batch_size\n",
        "    w_gradient += (lambda_value * w * 2) \n",
        "    w -= learning_rate * (w_gradient)\n",
        "    b -= learning_rate * (b_gradient/batch_size)\n",
        "    current_epoch += 1\n",
        "\n",
        "  # Return the Coefficients \n",
        "  return w, b"
      ],
      "metadata": {
        "id": "5J2_1gmUzgnv"
      },
      "execution_count": 10,
      "outputs": []
    },
    {
      "cell_type": "markdown",
      "source": [
        "## Attempts at Tuning learning_rate, epochs, and batch_size\n",
        "Attempt 1: learning_rate = 1\n",
        "\n",
        "epochs = 100\n",
        "\n",
        "batch_size = 10\n",
        "\n",
        "####MSE: 2.46861231272804e+206\n",
        "\n",
        "Attempt 2: learning_rate = 0.1\n",
        "\n",
        "epochs = 100\n",
        "\n",
        "batch_size = 10\n",
        "\n",
        "####MSE: 60.283173318340005"
      ],
      "metadata": {
        "id": "48fWviKjoe8p"
      }
    },
    {
      "cell_type": "code",
      "source": [
        "# Calling the stochasticGradientFunc\n",
        "learning_rate = 0.01\n",
        "epochs = 1000\n",
        "batch_size = 20\n",
        "lambda_value = 0.1\n",
        "w, b = stochasticGradientFunc(train_data, learning_rate, epochs, batch_size, lambda_value)"
      ],
      "metadata": {
        "id": "-zO57FDH8Nuy"
      },
      "execution_count": 11,
      "outputs": []
    },
    {
      "cell_type": "markdown",
      "source": [
        "## With L2 Regularization and with the final hyperparameters chosen\n",
        "learning_rate = 0.01\n",
        "\n",
        "epochs = 1000\n",
        "\n",
        "batch_size = 20\n",
        "\n",
        "lambda_value i.e penalty = 0.1\n",
        "\n",
        "####MSE:  27.15047027729554\n",
        "Note: Goal is to obtain a reduced testing error due to Regularization by intentionally increasing training error through penalty for the model if regularization is done right. \n",
        "Above given MSE is a reduced testing error from previous attempts without regulatization.\n",
        "\n",
        "The MSE would vary depending on the sample selected every epoch as that would be different everytie the model is trained"
      ],
      "metadata": {
        "id": "TNqHcgFeol5G"
      }
    },
    {
      "cell_type": "code",
      "source": [
        "y_prediction = list()\n",
        "for i in range(0, len(x_test)):\n",
        "  y = np.ndarray.item(np.dot(w, x_test[i]) + b)\n",
        "  y_prediction.append(y)\n",
        "y_pred =  np.array(y_prediction)"
      ],
      "metadata": {
        "id": "pAub5G9__bFx"
      },
      "execution_count": 12,
      "outputs": []
    },
    {
      "cell_type": "code",
      "source": [
        "plt.scatter(y_test, y_pred)\n",
        "plt.grid()\n",
        "plt.xlabel('Actual y')\n",
        "plt.ylabel('Predicted y')\n",
        "plt.show()\n",
        "#print(y_pred)\n",
        "#print(y_test)\n",
        "## Mean Squared Error\n",
        "print(\"MSE: \", mean_squared_error(y_test, y_pred))\n",
        "print(\"Weights post training: \")\n",
        "print(w)"
      ],
      "metadata": {
        "colab": {
          "base_uri": "https://localhost:8080/",
          "height": 366
        },
        "id": "kcqsCwCD9gJA",
        "outputId": "63f377d2-838a-44f2-ffc3-3d48e57c4b65"
      },
      "execution_count": 13,
      "outputs": [
        {
          "output_type": "display_data",
          "data": {
            "text/plain": [
              "<Figure size 432x288 with 1 Axes>"
            ],
            "image/png": "[encoded data removed]"
          },
          "metadata": {
            "needs_background": "light"
          }
        },
        {
          "output_type": "stream",
          "name": "stdout",
          "text": [
            "MSE:  27.15047027729554\n",
            "Weights post training: \n",
            "[[-0.92748692  0.75560923 -0.66586499  0.56301327 -1.54675453  2.48707605\n",
            "   0.03921274 -2.00444249  1.02430128 -0.91300209 -2.02177125  0.61930445\n",
            "  -3.20296527]]\n"
          ]
        }
      ]
    },
    {
      "cell_type": "code",
      "source": [
        "class TestNotebook(unittest.TestCase):\n",
        "\n",
        "    def test(self):\n",
        "      learning_rate = 0.01\n",
        "      epochs = 1000\n",
        "      batch_size = 20\n",
        "      lambda_value = 0.1\n",
        "      # asserting final coefficients exists\n",
        "      result_w = stochasticGradientFunc(train_data, learning_rate, epochs, batch_size, lambda_value)\n",
        "\n",
        "      self.assertIsNotNone(result_w, \"Passed\")\n",
        "\n",
        "    def test_1(self):\n",
        "      learning_rate = 0.01\n",
        "      epochs = 1000\n",
        "      batch_size = 20\n",
        "      lambda_value = 0.1\n",
        "      # asserting len of coeffcients is equal to number of features used in training except the target variable\n",
        "      result_1, result_2 = stochasticGradientFunc(train_data, learning_rate, epochs, batch_size, lambda_value)\n",
        "\n",
        "      num_of_features = train_data.shape[1] - 1\n",
        "      self.assertEqual(len(result_1[0]), num_of_features)\n",
        "        \n",
        "unittest.main(argv=[''], verbosity=2, exit=False)"
      ],
      "metadata": {
        "colab": {
          "base_uri": "https://localhost:8080/"
        },
        "id": "Ab85fIxlZCjk",
        "outputId": "47e020ac-621b-41f8-87bc-d388558814ee"
      },
      "execution_count": 24,
      "outputs": [
        {
          "output_type": "stream",
          "name": "stderr",
          "text": [
            "test (__main__.TestNotebook) ... ok\n",
            "test_1 (__main__.TestNotebook) ... ok\n",
            "\n",
            "----------------------------------------------------------------------\n",
            "Ran 2 tests in 8.024s\n",
            "\n",
            "OK\n"
          ]
        },
        {
          "output_type": "execute_result",
          "data": {
            "text/plain": [
              "<unittest.main.TestProgram at 0x7fbe32c46490>"
            ]
          },
          "metadata": {},
          "execution_count": 24
        }
      ]
    }
  ]
}